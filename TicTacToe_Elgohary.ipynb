{
 "cells": [
  {
   "cell_type": "code",
   "execution_count": null,
   "id": "929f3c20-7007-4de2-acc1-0768d4e47c90",
   "metadata": {
    "tags": []
   },
   "outputs": [
    {
     "name": "stdout",
     "output_type": "stream",
     "text": [
      "\n",
      "\t\t\t\t Tic Tac Toe Game\n",
      "\n",
      "\t\t\t\t     |     |     \n",
      "\t\t\t\t  1  |  2  |  3\n",
      "\t\t\t\t_____|_____|_____\n",
      "\t\t\t\t     |     |     \n",
      "\t\t\t\t  4  |  5  |  6\n",
      "\t\t\t\t_____|_____|_____\n",
      "\t\t\t\t     |     |     \n",
      "\t\t\t\t  7  |  8  |  9\n",
      "\t\t\t\t     |     |     \n",
      "\n",
      "\t\t\t       It's player X's turn\n"
     ]
    },
    {
     "name": "stdin",
     "output_type": "stream",
     "text": [
      "Choose a field:  1\n"
     ]
    },
    {
     "name": "stdout",
     "output_type": "stream",
     "text": [
      "\n",
      "\t\t\t\t Tic Tac Toe Game\n",
      "\n",
      "\t\t\t\t     |     |     \n",
      "\t\t\t\t  X  |  2  |  3\n",
      "\t\t\t\t_____|_____|_____\n",
      "\t\t\t\t     |     |     \n",
      "\t\t\t\t  4  |  5  |  6\n",
      "\t\t\t\t_____|_____|_____\n",
      "\t\t\t\t     |     |     \n",
      "\t\t\t\t  7  |  8  |  9\n",
      "\t\t\t\t     |     |     \n",
      "\n",
      "\t\t\t       It's player O's turn\n"
     ]
    },
    {
     "name": "stdin",
     "output_type": "stream",
     "text": [
      "Choose a field:  5\n"
     ]
    },
    {
     "name": "stdout",
     "output_type": "stream",
     "text": [
      "\n",
      "\t\t\t\t Tic Tac Toe Game\n",
      "\n",
      "\t\t\t\t     |     |     \n",
      "\t\t\t\t  X  |  2  |  3\n",
      "\t\t\t\t_____|_____|_____\n",
      "\t\t\t\t     |     |     \n",
      "\t\t\t\t  4  |  O  |  6\n",
      "\t\t\t\t_____|_____|_____\n",
      "\t\t\t\t     |     |     \n",
      "\t\t\t\t  7  |  8  |  9\n",
      "\t\t\t\t     |     |     \n",
      "\n",
      "\t\t\t       It's player X's turn\n"
     ]
    },
    {
     "name": "stdin",
     "output_type": "stream",
     "text": [
      "Choose a field:  9\n"
     ]
    },
    {
     "name": "stdout",
     "output_type": "stream",
     "text": [
      "\n",
      "\t\t\t\t Tic Tac Toe Game\n",
      "\n",
      "\t\t\t\t     |     |     \n",
      "\t\t\t\t  X  |  2  |  3\n",
      "\t\t\t\t_____|_____|_____\n",
      "\t\t\t\t     |     |     \n",
      "\t\t\t\t  4  |  O  |  6\n",
      "\t\t\t\t_____|_____|_____\n",
      "\t\t\t\t     |     |     \n",
      "\t\t\t\t  7  |  8  |  X\n",
      "\t\t\t\t     |     |     \n",
      "\n",
      "\t\t\t       It's player O's turn\n"
     ]
    },
    {
     "name": "stdin",
     "output_type": "stream",
     "text": [
      "Choose a field:  8\n"
     ]
    },
    {
     "name": "stdout",
     "output_type": "stream",
     "text": [
      "\n",
      "\t\t\t\t Tic Tac Toe Game\n",
      "\n",
      "\t\t\t\t     |     |     \n",
      "\t\t\t\t  X  |  2  |  3\n",
      "\t\t\t\t_____|_____|_____\n",
      "\t\t\t\t     |     |     \n",
      "\t\t\t\t  4  |  O  |  6\n",
      "\t\t\t\t_____|_____|_____\n",
      "\t\t\t\t     |     |     \n",
      "\t\t\t\t  7  |  O  |  X\n",
      "\t\t\t\t     |     |     \n",
      "\n",
      "\t\t\t       It's player X's turn\n"
     ]
    },
    {
     "name": "stdin",
     "output_type": "stream",
     "text": [
      "Choose a field:  2\n"
     ]
    },
    {
     "name": "stdout",
     "output_type": "stream",
     "text": [
      "\n",
      "\t\t\t\t Tic Tac Toe Game\n",
      "\n",
      "\t\t\t\t     |     |     \n",
      "\t\t\t\t  X  |  X  |  3\n",
      "\t\t\t\t_____|_____|_____\n",
      "\t\t\t\t     |     |     \n",
      "\t\t\t\t  4  |  O  |  6\n",
      "\t\t\t\t_____|_____|_____\n",
      "\t\t\t\t     |     |     \n",
      "\t\t\t\t  7  |  O  |  X\n",
      "\t\t\t\t     |     |     \n",
      "\n",
      "\t\t\t       It's player O's turn\n"
     ]
    },
    {
     "name": "stdin",
     "output_type": "stream",
     "text": [
      "Choose a field:  3\n"
     ]
    },
    {
     "name": "stdout",
     "output_type": "stream",
     "text": [
      "\n",
      "\t\t\t\t Tic Tac Toe Game\n",
      "\n",
      "\t\t\t\t     |     |     \n",
      "\t\t\t\t  X  |  X  |  O\n",
      "\t\t\t\t_____|_____|_____\n",
      "\t\t\t\t     |     |     \n",
      "\t\t\t\t  4  |  O  |  6\n",
      "\t\t\t\t_____|_____|_____\n",
      "\t\t\t\t     |     |     \n",
      "\t\t\t\t  7  |  O  |  X\n",
      "\t\t\t\t     |     |     \n",
      "\n",
      "\t\t\t       It's player X's turn\n"
     ]
    },
    {
     "name": "stdin",
     "output_type": "stream",
     "text": [
      "Choose a field:  3\n"
     ]
    },
    {
     "name": "stdout",
     "output_type": "stream",
     "text": [
      "\t\t     This field is in use, choose another field!\n",
      "\n",
      "\t\t\t       It's player X's turn\n"
     ]
    },
    {
     "name": "stdin",
     "output_type": "stream",
     "text": [
      "Choose a field:  6\n"
     ]
    },
    {
     "name": "stdout",
     "output_type": "stream",
     "text": [
      "\n",
      "\t\t\t\t Tic Tac Toe Game\n",
      "\n",
      "\t\t\t\t     |     |     \n",
      "\t\t\t\t  X  |  X  |  O\n",
      "\t\t\t\t_____|_____|_____\n",
      "\t\t\t\t     |     |     \n",
      "\t\t\t\t  4  |  O  |  X\n",
      "\t\t\t\t_____|_____|_____\n",
      "\t\t\t\t     |     |     \n",
      "\t\t\t\t  7  |  O  |  X\n",
      "\t\t\t\t     |     |     \n",
      "\n",
      "\t\t\t       It's player O's turn\n"
     ]
    },
    {
     "name": "stdin",
     "output_type": "stream",
     "text": [
      "Choose a field:  7\n"
     ]
    },
    {
     "name": "stdout",
     "output_type": "stream",
     "text": [
      "\n",
      "\t\t\t\t Tic Tac Toe Game\n",
      "\n",
      "\t\t\t\t     |     |     \n",
      "\t\t\t\t  X  |  X  |  O\n",
      "\t\t\t\t_____|_____|_____\n",
      "\t\t\t\t     |     |     \n",
      "\t\t\t\t  4  |  O  |  X\n",
      "\t\t\t\t_____|_____|_____\n",
      "\t\t\t\t     |     |     \n",
      "\t\t\t\t  O  |  O  |  X\n",
      "\t\t\t\t     |     |     \n",
      "\n",
      "\t\t     Congrats, Player O! You are the WINNER!\n",
      "\n"
     ]
    }
   ],
   "source": [
    "\n",
    "matrix = [['1', '2', '3'], ['4', '5', '6'], ['7', '8', '9']]\n",
    "C = 0\n",
    "player = 'X'\n",
    "\n",
    "\n",
    "def print_board():\n",
    "    print(\"\\n\\t\\t\\t\\t Tic Tac Toe Game\\n\")\n",
    "    print(\"\\t\\t\\t\\t     |     |     \")\n",
    "    print(\"\\t\\t\\t\\t  {}  |  {}  |  {}\".format(matrix[0][0], matrix[0][1], matrix[0][2]))\n",
    "    print(\"\\t\\t\\t\\t_____|_____|_____\")\n",
    "    print(\"\\t\\t\\t\\t     |     |     \")\n",
    "    print(\"\\t\\t\\t\\t  {}  |  {}  |  {}\".format(matrix[1][0], matrix[1][1], matrix[1][2]))\n",
    "    print(\"\\t\\t\\t\\t_____|_____|_____\")\n",
    "    print(\"\\t\\t\\t\\t     |     |     \")\n",
    "    print(\"\\t\\t\\t\\t  {}  |  {}  |  {}\".format(matrix[2][0], matrix[2][1], matrix[2][2]))\n",
    "    print(\"\\t\\t\\t\\t     |     |     \\n\")\n",
    "\n",
    "def insert():\n",
    "    global player\n",
    "    print(\"\\t\\t\\t       It's player {}'s turn\".format(player))\n",
    "    f = int(input(\"Choose a field: \"))\n",
    "    for i in range(3):\n",
    "        for j in range(3):\n",
    "            if f == i * 3 + (j + 1):\n",
    "                if matrix[i][j] != 'O' and matrix[i][j] != 'X':\n",
    "                    matrix[i][j] = player\n",
    "                else:\n",
    "                    print(\"\\t\\t     This field is in use, choose another field!\\n\")\n",
    "                    insert()\n",
    "\n",
    "def change_player():\n",
    "    global player\n",
    "    player = 'O' if player == 'X' else 'X'\n",
    "\n",
    "def check_win():\n",
    "    # Check rows, columns, and diagonals\n",
    "    for i in range(3):\n",
    "        if matrix[i][0] == matrix[i][1] == matrix[i][2]:\n",
    "            return matrix[i][0]\n",
    "        if matrix[0][i] == matrix[1][i] == matrix[2][i]:\n",
    "            return matrix[0][i]\n",
    "    if matrix[0][0] == matrix[1][1] == matrix[2][2]:\n",
    "        return matrix[0][0]\n",
    "    if matrix[2][0] == matrix[1][1] == matrix[0][2]:\n",
    "        return matrix[2][0]\n",
    "    return '/' if C == 9 else None\n",
    "\n",
    "def main():\n",
    "    global C\n",
    "    print_board()\n",
    "    while C <= 9:\n",
    "        C += 1\n",
    "        insert()\n",
    "        print_board()\n",
    "        winner = check_win()\n",
    "        if winner == 'X':\n",
    "            print(\"\\t\\t     Congrats, Player X! You are the WINNER!\\n\")\n",
    "            break\n",
    "        elif winner == 'O':\n",
    "            print(\"\\t\\t     Congrats, Player O! You are the WINNER!\\n\")\n",
    "            break\n",
    "        elif winner == '/' and C == 9:\n",
    "            print(\"\\t\\t\\t\\t  It's a Tie!\\n\")\n",
    "            break\n",
    "        change_player()\n",
    "    input(\"Press Enter to continue...\")\n",
    "\n",
    "if __name__ == \"__main__\":\n",
    "    main()"
   ]
  },
  {
   "cell_type": "code",
   "execution_count": null,
   "id": "923259b1-2ad8-4c29-9ecb-e2b8ac782bd4",
   "metadata": {},
   "outputs": [],
   "source": []
  },
  {
   "cell_type": "code",
   "execution_count": null,
   "id": "cab5f2ab-4097-4fed-bb4f-02c061a4b419",
   "metadata": {},
   "outputs": [],
   "source": []
  }
 ],
 "metadata": {
  "kernelspec": {
   "display_name": "anaconda-panel-2023.05-py310",
   "language": "python",
   "name": "conda-env-anaconda-panel-2023.05-py310-py"
  },
  "language_info": {
   "codemirror_mode": {
    "name": "ipython",
    "version": 3
   },
   "file_extension": ".py",
   "mimetype": "text/x-python",
   "name": "python",
   "nbconvert_exporter": "python",
   "pygments_lexer": "ipython3",
   "version": "3.11.4"
  }
 },
 "nbformat": 4,
 "nbformat_minor": 5
}
